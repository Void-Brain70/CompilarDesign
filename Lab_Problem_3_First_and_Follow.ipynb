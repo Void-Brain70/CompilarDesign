{
  "nbformat": 4,
  "nbformat_minor": 0,
  "metadata": {
    "colab": {
      "name": "Lab_Problem_3_First_and_Follow.ipynb",
      "provenance": [],
      "collapsed_sections": [],
      "authorship_tag": "ABX9TyM0CvxnvFMOignmjyE2r91Q",
      "include_colab_link": true
    },
    "kernelspec": {
      "name": "python3",
      "display_name": "Python 3"
    },
    "language_info": {
      "name": "python"
    }
  },
  "cells": [
    {
      "cell_type": "markdown",
      "metadata": {
        "id": "view-in-github",
        "colab_type": "text"
      },
      "source": [
        "<a href=\"https://colab.research.google.com/github/Void-Brain70/CompilarDesign/blob/main/Lab_Problem_3_First_and_Follow.ipynb\" target=\"_parent\"><img src=\"https://colab.research.google.com/assets/colab-badge.svg\" alt=\"Open In Colab\"/></a>"
      ]
    },
    {
      "cell_type": "code",
      "source": [
        "import re # Python has a built-in package called re, it's work with Regular Expressions."
      ],
      "metadata": {
        "id": "6AaprWK2HSt0"
      },
      "execution_count": 1,
      "outputs": []
    },
    {
      "cell_type": "code",
      "execution_count": 2,
      "metadata": {
        "id": "uHoOZuBmB5m-"
      },
      "outputs": [],
      "source": [
        "# Define a first function\n",
        "def first_function(s, productions): # parameter pass set and productions given grammer\n",
        "    first = set()  # Sets are used to store multiple items in a single variable.\n",
        "    for i in range(len(productions[s])):  # use for loop for count number of set in given grammer      \n",
        "        for j in range(len(productions[s][i])): # use for loop count total number of productions\n",
        "            c = productions[s][i][j] # stroe all in 'c'\n",
        "            if(c.isupper()): # check store value have any capital letter\n",
        "                f = first_function(c, productions) # if have then parameter pass in first_function\n",
        "                if('ε' not in f): # 'ε' not in 'f'\n",
        "                    for k in f: # use for loop to store \n",
        "                        first.add(k) # and add value in 'first'\n",
        "                    break \n",
        "                else:\n",
        "                    if(j == len(productions[s][i])-1): # check first element terminal or non-terminal\n",
        "                        for k in f: # use for loop for check terminal value\n",
        "                            first.add(k) # if found than add\n",
        "                    else:\n",
        "                        f.remove('ε') # The remove() method removes the first occurrence of the element with the specified value.\n",
        "                        for k in f: #  and use for loop for find terminal value\n",
        "                            first.add(k) # add get than add\n",
        "            else:  \n",
        "                first.add(c) # add when all set first value are not found\n",
        "                break                \n",
        "    return first"
      ]
    },
    {
      "cell_type": "code",
      "source": [
        "# Define a follow function\n",
        "def follow_function(s, productions, first): # parameter pass set,productions and first \n",
        "    follow = set() # # Sets are used to store multiple items in a single variable.\n",
        "    if len(s)!=1 : # if grammer set have no  not equal 1  then return {} \n",
        "        return {}\n",
        "    if(s == list(productions.keys())[0]): # start set we add initially '$'\n",
        "    # The keys() method returns a view object. The view object contains the keys of the dictionary, as a list.\n",
        "        follow.add('$') \n",
        "\n",
        "    for i in productions: # use for loop to find follow element \n",
        "        for j in range(len(productions[i])): # use for loop number of production\n",
        "            if(s in productions[i][j]): \n",
        "                idx = productions[i][j].index(s)\n",
        "                # check first have any terminal 'Ba'\n",
        "                if(idx == len(productions[i][j])-1): # if we find a follow terminal value in first\n",
        "                    if(productions[i][j][idx] == i): \n",
        "                        break\n",
        "                    else: \n",
        "                        f = follow_function(i, productions, first)\n",
        "                        for x in f:\n",
        "                            follow.add(x) # add in follw function \n",
        "                else: # if we can find a non terminal value\n",
        "                    while(idx != len(productions[i][j]) - 1):\n",
        "                        idx += 1\n",
        "                        if(not productions[i][j][idx].isupper()): # if follow set \n",
        "                            follow.add(productions[i][j][idx])\n",
        "                            break\n",
        "                        else:\n",
        "                            f = first_function(productions[i][j][idx], productions)\n",
        "                            \n",
        "                            if('ε' not in f):\n",
        "                                for x in f:\n",
        "                                    follow.add(x)\n",
        "                                break\n",
        "                            elif('ε' in f and idx != len(productions[i][j])-1):\n",
        "                                f.remove('ε')\n",
        "                                for k in f:\n",
        "                                    follow.add(k)\n",
        "                            \n",
        "                            elif('ε' in f and idx == len(productions[i][j])-1):\n",
        "                                f.remove('ε')\n",
        "                                for k in f:\n",
        "                                    follow.add(k)\n",
        "                                \n",
        "                                f = follow_function(i, productions, first)\n",
        "                                for x in f:\n",
        "                                    follow.add(x)\n",
        "                            \n",
        "    return follow"
      ],
      "metadata": {
        "id": "ftCjvaWIHJGC"
      },
      "execution_count": 3,
      "outputs": []
    },
    {
      "cell_type": "code",
      "source": [
        "def main():\n",
        "    productions = {}\n",
        "    G = open(\"/content/FnF1.txt\", \"r\") # we pass input as a file\n",
        "    \n",
        "    first = {} \n",
        "    follow = {}\n",
        "    \n",
        "    for prod in G:\n",
        "        l = re.split(\"( /->/\\n/)*\", prod) # if we find a '->' or new line '\\n' we split it\n",
        "        m = [] # list\n",
        "        for i in l: #  check the space '->' '\\n'\n",
        "            if (i == \"\" or i == None or i == '\\n' or i == \" \" or i == \"-\" or i == \">\"):\n",
        "                pass # if we get this we pass it\n",
        "            else: \n",
        "                m.append(i) # otherwise we append in 'm' list \n",
        "        \n",
        "        left_prod = m.pop(0)\n",
        "        right_prod = []\n",
        "        t = []\n",
        "        \n",
        "        for j in m:\n",
        "            if(j != '|'):\n",
        "                t.append(j)\n",
        "            else:\n",
        "                right_prod.append(t)\n",
        "                t = []\n",
        "        \n",
        "        right_prod.append(t)\n",
        "        productions[left_prod] = right_prod\n",
        "    \n",
        "    # print first function \n",
        "    for s in productions.keys(): # The keys() method returns a view object. The view object contains the keys of the dictionary, as a list.\n",
        "        first[s] = first_function(s, productions)\n",
        "    \n",
        "    print(\"#######FIRST#######\")\n",
        "    for lhs, rhs in first.items():\n",
        "        print(lhs, \":\" , rhs)\n",
        "    \n",
        "    print(\"\")\n",
        "    \n",
        "    #  print follow function\n",
        "    for lhs in productions:\n",
        "        follow[lhs] = set()\n",
        "    \n",
        "    for s in productions.keys():\n",
        "        follow[s] = follow_function(s, productions, first)\n",
        "    \n",
        "    print(\"#######FOLLOW#######\")\n",
        "    for lhs, rhs in follow.items():\n",
        "        print(lhs, \":\" , rhs)\n",
        "    \n",
        "    G.close()\n",
        "\n",
        "# We can use an if __name__ == \"__main__\" block to allow or prevent parts of code from being run when the modules are imported.\n",
        "if __name__ == \"__main__\":\n",
        "    main()"
      ],
      "metadata": {
        "colab": {
          "base_uri": "https://localhost:8080/"
        },
        "id": "ScPSnyblHoUe",
        "outputId": "91cb1f94-aab2-48da-fc07-5674b3695070"
      },
      "execution_count": 4,
      "outputs": [
        {
          "output_type": "stream",
          "name": "stdout",
          "text": [
            "#######FIRST#######\n",
            "S : {'a'}\n",
            "B : {'c'}\n",
            "C : {'b', 'ε'}\n",
            "D : {'ε', 'g', 'f'}\n",
            "E : {'ε', 'g'}\n",
            "F : {'ε', 'f'}\n",
            "\n",
            "#######FOLLOW#######\n",
            "S : {'$'}\n",
            "B : {'h', 'g', 'f'}\n",
            "C : {'h', 'g', 'f'}\n",
            "D : {'h'}\n",
            "E : {'h', 'f'}\n",
            "F : {'h'}\n"
          ]
        }
      ]
    }
  ]
}